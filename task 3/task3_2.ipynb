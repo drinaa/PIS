{
 "cells": [
  {
   "cell_type": "code",
   "execution_count": 1,
   "metadata": {},
   "outputs": [],
   "source": [
    "import json\n",
    "import math\n",
    "\n",
    "import pandas as pd"
   ]
  },
  {
   "cell_type": "code",
   "execution_count": 2,
   "metadata": {},
   "outputs": [],
   "source": [
    "variant = 34\n",
    "not_watching = -1  # обозначение непросмотренного фильма\n",
    "sim_uv = []\n",
    "rv = []\n",
    "new_mark = {}\n",
    "dict_recommend_film = {}"
   ]
  },
  {
   "cell_type": "code",
   "execution_count": 3,
   "metadata": {},
   "outputs": [],
   "source": [
    "# высчитывает метрику для двух пользователей и сразу считает среднюю оценку (учитывая, что средняя оценка -\n",
    "# это сумма всех проставленных оценок / на кол-во просмотренных фильмов(а не всех фильмов)\n",
    "def sim(u, v):\n",
    "    total_sum, u_sum, v_sum, col, sum_uv, vc = 0, 0, 0, 0, 0, 0\n",
    "    for i in range(num_films):\n",
    "        if v[i] != not_watching:\n",
    "            total_sum += v[i]\n",
    "            col += 1\n",
    "            if u[i] != not_watching:\n",
    "                sum_uv += (u[i] * v[i])\n",
    "                u_sum += u[i] ** 2\n",
    "                v_sum += v[i] ** 2\n",
    "    return round(sum_uv / (math.sqrt(u_sum) * math.sqrt(v_sum)), 3), round(total_sum / col, 3)"
   ]
  },
  {
   "cell_type": "code",
   "execution_count": 4,
   "metadata": {},
   "outputs": [],
   "source": [
    "# высчитывает дробь из формулы оценки\n",
    "def calc_mark(data):\n",
    "    data.columns = ['mov', 'sim', 'rv']\n",
    "    data = data.drop(data[data.mov == not_watching].index)\n",
    "    data['sum_ch'] = round(data.sim * (data.mov - data.rv), 3)\n",
    "    res_calc_mark = round(sum(data.sum_ch) / sum(abs(data.sim)), 3)\n",
    "    return res_calc_mark"
   ]
  },
  {
   "cell_type": "code",
   "execution_count": 5,
   "metadata": {},
   "outputs": [],
   "source": [
    "def recommend_mark(data, my_str):\n",
    "    knn = 4\n",
    "    for i in range(num_users):\n",
    "        v_df = list(data.iloc[i])\n",
    "        ret = sim(my_str[0], v_df)\n",
    "        sim_uv.append(ret[0])\n",
    "        rv.append(ret[1])\n",
    "    data2 = data.assign(sim = sim_uv, rv = rv)\n",
    "    my_mean = data2.at['User ' + str(variant), 'rv']\n",
    "    data2 = data2.sort_values(by = ['sim'], ascending = False)\n",
    "    data2 = data2.iloc[1:knn + 1]\n",
    "    for i in range(num_films):\n",
    "        if my_str[0][i] == not_watching:\n",
    "            new_mark['Movie ' + str(i + 1)] = round(my_mean + calc_mark(data2.iloc[:, [i, -2, -1]]), 3)\n",
    "    return new_mark"
   ]
  },
  {
   "cell_type": "code",
   "execution_count": 6,
   "metadata": {},
   "outputs": [],
   "source": [
    "def recommend_film(dict_films):\n",
    "    not_watch_films = [i for i in dict_films]\n",
    "    for film in not_watch_films:\n",
    "        film_place_day = round((dp[dp[film] == 'h'].shape[0] + dd[dd[film] == 'Sat'].shape[0] +\n",
    "                                dd[dd[film] == 'Sun'].shape[0]) / dp[dp[film] != not_watching].shape[0], 3)\n",
    "        film_ser = df[film]\n",
    "        avg_film = round(sum(film_ser[film_ser != not_watching]) / num_films)\n",
    "        rate_film = avg_film + film_place_day\n",
    "        dict_recommend_film[film] = rate_film\n",
    "    return dict_recommend_film"
   ]
  },
  {
   "cell_type": "code",
   "execution_count": 7,
   "metadata": {},
   "outputs": [],
   "source": [
    "df = pd.read_csv('data.csv', index_col = 0, sep = ',\\s+', engine = 'python')\n",
    "dp = pd.read_csv('context_place.csv', index_col = 0, sep = ',\\s+', engine = 'python')\n",
    "dd = pd.read_csv('context_day.csv', index_col = 0, sep = ',\\s+', engine = 'python')\n",
    "num_films = df.shape[1]\n",
    "num_users = df.shape[0]\n",
    "my_str_df = df.loc[df.index == 'User ' + str(variant)]  # выделяю свой вариант\n",
    "res_task1 = recommend_mark(df, my_str_df.values)  # task1\n",
    "\n",
    "# task2: чтобы порекомендовать фильм для просмотра дома в выходной, будем вычислять так называемую \"привлекательность\"\n",
    "# фильма. Участвовать в вычислениях будут только те фильмы, которые не посмотрел пользователь. Для вычислений я буду\n",
    "# учитывать среднюю оценку фильма + процент посмотревших фильм дома + процент посмотревших его в выходной день\n",
    "dict_task2 = recommend_film(res_task1)\n",
    "res_task2 = {}\n",
    "max_value = max(dict_task2.values())\n",
    "res_task2[max(dict_task2, key = dict_task2.get)] = max_value"
   ]
  },
  {
   "cell_type": "code",
   "execution_count": 8,
   "metadata": {},
   "outputs": [],
   "source": [
    "result = {\"user\": variant, \"1\": res_task1, \"2\": res_task2}\n",
    "with open('result.json', 'w', encoding = 'utf-8') as f:\n",
    "    json.dump(result, f, ensure_ascii = False, indent = 4)"
   ]
  },
  {
   "cell_type": "markdown",
   "metadata": {},
   "source": [
    "Задание 3.2"
   ]
  },
  {
   "cell_type": "code",
   "execution_count": 11,
   "metadata": {},
   "outputs": [],
   "source": [
    "from SPARQLWrapper import SPARQLWrapper, JSON\n",
    "import pandas as pd\n",
    "import requests"
   ]
  },
  {
   "cell_type": "code",
   "execution_count": 31,
   "metadata": {},
   "outputs": [
    {
     "data": {
      "text/plain": [
       "'The Godfather: Part II'"
      ]
     },
     "execution_count": 31,
     "metadata": {},
     "output_type": "execute_result"
    }
   ],
   "source": [
    "movieNames = pd.read_csv(\"movie_names.csv\", header=None, delimiter=', ', index_col=0, engine = 'python')\n",
    "for k in res_task2.keys():\n",
    "    nm = k\n",
    "movieName = movieNames[movieNames.index == nm][1][0]\n",
    "movieName"
   ]
  },
  {
   "cell_type": "code",
   "execution_count": 32,
   "metadata": {},
   "outputs": [
    {
     "data": {
      "text/plain": [
       "'Q202326'"
      ]
     },
     "execution_count": 32,
     "metadata": {},
     "output_type": "execute_result"
    }
   ],
   "source": [
    "#самый старший участник съемочного процесса\n",
    "API_ENDPOINT = \"https://www.wikidata.org/w/api.php\"\n",
    "params = {\n",
    "    'action' : 'wbsearchentities',\n",
    "    'format' : 'json',\n",
    "    'language' : 'en',\n",
    "    'search': movieName\n",
    "}\n",
    "res = requests.get(API_ENDPOINT, params = params)\n",
    "filmsQ = res.json()['search'][0]['id']\n",
    "filmsQ\n",
    "#тут что-то идёт очень не так, потому что идентификатор выдаётся неверного фильма, а точнее - третьей части. В чём дело,\n",
    "#я не могу понять, ведь в movieName верное название фильма. Поэтому прописываю нужный идентификатор \"в лоб\""
   ]
  },
  {
   "cell_type": "code",
   "execution_count": 33,
   "metadata": {},
   "outputs": [],
   "source": [
    "filmsQ = 'Q184768'\n",
    "sparql = SPARQLWrapper(\"https://query.wikidata.org/sparql\")\n",
    "sparql_query = \"\"\"\n",
    "\n",
    "SELECT ?item ?itemLabel ?dateofbirthLabel\n",
    "WHERE \n",
    "{\n",
    "  {wd:Q184768 wdt:P57 ?item. }\n",
    "  UNION\n",
    "  {wd:Q184768 wdt:P58 ?item. }\n",
    "  UNION\n",
    "  {wd:Q184768 wdt:P161 ?item.}\n",
    "  UNION\n",
    "  {wd:Q184768 wdt:P344 ?item.}\n",
    "  UNION\n",
    "  {wd:Q184768 wdt:P1040 ?item.}\n",
    "  UNION\n",
    "  {wd:Q184768 wdt:P2554 ?item.}\n",
    "  UNION\n",
    "  {wd:Q184768 wdt:P2515 ?item.}\n",
    "  UNION\n",
    "  {wd:Q184768 wdt:P86 ?item.}\n",
    "  UNION\n",
    "  {wd:Q184768 wdt:P162 ?item.}\n",
    "  MINUS {?item wdt:P106 wd:Q82955} #важная строчка, так как в WikiData есть только однофамилец одного из актёров - Дэвида Бэйкери\n",
    "  ?item wdt:P569 ?dateofbirthLabel\n",
    "  SERVICE wikibase:label { bd:serviceParam wikibase:language \"[AUTO_LANGUAGE],en\". }\n",
    "}\n",
    "ORDER BY ?dateofbirthLabel\n",
    "LIMIT 1\n",
    "\n",
    "\"\"\"\n",
    "sparql.setQuery(sparql_query)\n",
    "sparql.setReturnFormat(JSON)\n",
    "results = sparql.query().convert()"
   ]
  },
  {
   "cell_type": "code",
   "execution_count": 34,
   "metadata": {},
   "outputs": [
    {
     "data": {
      "text/html": [
       "<div>\n",
       "<style scoped>\n",
       "    .dataframe tbody tr th:only-of-type {\n",
       "        vertical-align: middle;\n",
       "    }\n",
       "\n",
       "    .dataframe tbody tr th {\n",
       "        vertical-align: top;\n",
       "    }\n",
       "\n",
       "    .dataframe thead th {\n",
       "        text-align: right;\n",
       "    }\n",
       "</style>\n",
       "<table border=\"1\" class=\"dataframe\">\n",
       "  <thead>\n",
       "    <tr style=\"text-align: right;\">\n",
       "      <th></th>\n",
       "      <th>item.value</th>\n",
       "      <th>itemLabel.value</th>\n",
       "      <th>dateofbirthLabel.value</th>\n",
       "    </tr>\n",
       "  </thead>\n",
       "  <tbody>\n",
       "    <tr>\n",
       "      <th>0</th>\n",
       "      <td>http://www.wikidata.org/entity/Q297945</td>\n",
       "      <td>Lee Strasberg</td>\n",
       "      <td>1901-11-17T00:00:00Z</td>\n",
       "    </tr>\n",
       "  </tbody>\n",
       "</table>\n",
       "</div>"
      ],
      "text/plain": [
       "                               item.value itemLabel.value  \\\n",
       "0  http://www.wikidata.org/entity/Q297945   Lee Strasberg   \n",
       "\n",
       "  dateofbirthLabel.value  \n",
       "0   1901-11-17T00:00:00Z  "
      ]
     },
     "execution_count": 34,
     "metadata": {},
     "output_type": "execute_result"
    }
   ],
   "source": [
    "results_df = pd.json_normalize(results['results']['bindings'])\n",
    "results_df[['item.value', 'itemLabel.value', 'dateofbirthLabel.value']].head(results_df.shape[0])"
   ]
  },
  {
   "cell_type": "code",
   "execution_count": null,
   "metadata": {},
   "outputs": [],
   "source": []
  }
 ],
 "metadata": {
  "kernelspec": {
   "display_name": "Python 3",
   "language": "python",
   "name": "python3"
  },
  "language_info": {
   "codemirror_mode": {
    "name": "ipython",
    "version": 3
   },
   "file_extension": ".py",
   "mimetype": "text/x-python",
   "name": "python",
   "nbconvert_exporter": "python",
   "pygments_lexer": "ipython3",
   "version": "3.8.5"
  }
 },
 "nbformat": 4,
 "nbformat_minor": 4
}
