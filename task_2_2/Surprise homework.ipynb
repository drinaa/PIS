{
 "cells": [
  {
   "cell_type": "markdown",
   "metadata": {},
   "source": [
    "# Surprise homework"
   ]
  },
  {
   "cell_type": "code",
   "execution_count": 1,
   "metadata": {},
   "outputs": [],
   "source": [
    "import io \n",
    "import os\n",
    "import pandas as pd\n",
    "from collections import defaultdict\n",
    "from surprise import SVD\n",
    "from surprise import Dataset\n",
    "from surprise import KNNWithMeans\n",
    "from surprise import NormalPredictor\n",
    "from surprise.model_selection import cross_validate\n",
    "from surprise.model_selection import KFold\n",
    "from surprise.model_selection import train_test_split"
   ]
  },
  {
   "cell_type": "code",
   "execution_count": 2,
   "metadata": {},
   "outputs": [],
   "source": [
    "# Load the movielens-100k dataset (download it if needed),\n",
    "data = Dataset.load_builtin('ml-100k')\n",
    "k = 30\n",
    "trainset, testset = train_test_split(data, test_size=.25)"
   ]
  },
  {
   "cell_type": "markdown",
   "metadata": {},
   "source": [
    "### A random rating based on the distribution of all ratings"
   ]
  },
  {
   "cell_type": "code",
   "execution_count": 3,
   "metadata": {},
   "outputs": [
    {
     "name": "stdout",
     "output_type": "stream",
     "text": [
      "Evaluating RMSE of algorithm NormalPredictor on 5 split(s).\n",
      "\n",
      "                  Fold 1  Fold 2  Fold 3  Fold 4  Fold 5  Mean    Std     \n",
      "RMSE (testset)    1.5120  1.5106  1.5222  1.5181  1.5194  1.5165  0.0044  \n",
      "Fit time          0.22    0.38    0.24    0.23    0.27    0.27    0.06    \n",
      "Test time         0.34    0.39    0.28    0.27    0.28    0.31    0.04    \n"
     ]
    },
    {
     "data": {
      "text/plain": [
       "{'test_rmse': array([1.51195292, 1.51063744, 1.52215409, 1.51808369, 1.51944912]),\n",
       " 'fit_time': (0.21842074394226074,\n",
       "  0.3829805850982666,\n",
       "  0.24335002899169922,\n",
       "  0.22639250755310059,\n",
       "  0.2662842273712158),\n",
       " 'test_time': (0.340118408203125,\n",
       "  0.38596343994140625,\n",
       "  0.2772238254547119,\n",
       "  0.273235559463501,\n",
       "  0.28028392791748047)}"
      ]
     },
     "execution_count": 3,
     "metadata": {},
     "output_type": "execute_result"
    }
   ],
   "source": [
    "algo = NormalPredictor()\n",
    "\n",
    "cross_validate(algo, data, measures=['RMSE'], cv=5, verbose=True)"
   ]
  },
  {
   "cell_type": "markdown",
   "metadata": {},
   "source": [
    "### kNN cosine"
   ]
  },
  {
   "cell_type": "code",
   "execution_count": 4,
   "metadata": {},
   "outputs": [
    {
     "name": "stdout",
     "output_type": "stream",
     "text": [
      "Computing the cosine similarity matrix...\n",
      "Done computing similarity matrix.\n",
      "Computing the cosine similarity matrix...\n",
      "Done computing similarity matrix.\n",
      "Computing the cosine similarity matrix...\n",
      "Done computing similarity matrix.\n",
      "Computing the cosine similarity matrix...\n",
      "Done computing similarity matrix.\n",
      "Computing the cosine similarity matrix...\n",
      "Done computing similarity matrix.\n",
      "Evaluating RMSE of algorithm KNNWithMeans on 5 split(s).\n",
      "\n",
      "                  Fold 1  Fold 2  Fold 3  Fold 4  Fold 5  Mean    Std     \n",
      "RMSE (testset)    0.9538  0.9561  0.9568  0.9662  0.9534  0.9573  0.0047  \n",
      "Fit time          2.89    2.86    2.85    2.86    4.55    3.20    0.67    \n",
      "Test time         5.48    5.52    6.16    5.82    5.94    5.78    0.26    \n"
     ]
    },
    {
     "data": {
      "text/plain": [
       "{'test_rmse': array([0.95380286, 0.95612014, 0.95683156, 0.96622591, 0.95335985]),\n",
       " 'fit_time': (2.886401414871216,\n",
       "  2.857356548309326,\n",
       "  2.8494157791137695,\n",
       "  2.8563601970672607,\n",
       "  4.546841621398926),\n",
       " 'test_time': (5.4814300537109375,\n",
       "  5.522268772125244,\n",
       "  6.162489652633667,\n",
       "  5.820014715194702,\n",
       "  5.936125993728638)}"
      ]
     },
     "execution_count": 4,
     "metadata": {},
     "output_type": "execute_result"
    }
   ],
   "source": [
    "algo = KNNWithMeans(k, sim_options={'name': 'cosine'})\n",
    "\n",
    "cross_validate(algo, data, measures=['RMSE'], cv=5, verbose=True)"
   ]
  },
  {
   "cell_type": "markdown",
   "metadata": {},
   "source": [
    "### kNN Mean Squared Difference"
   ]
  },
  {
   "cell_type": "code",
   "execution_count": 5,
   "metadata": {},
   "outputs": [
    {
     "name": "stdout",
     "output_type": "stream",
     "text": [
      "Computing the msd similarity matrix...\n",
      "Done computing similarity matrix.\n",
      "Computing the msd similarity matrix...\n",
      "Done computing similarity matrix.\n",
      "Computing the msd similarity matrix...\n",
      "Done computing similarity matrix.\n",
      "Computing the msd similarity matrix...\n",
      "Done computing similarity matrix.\n",
      "Computing the msd similarity matrix...\n",
      "Done computing similarity matrix.\n",
      "Evaluating RMSE of algorithm KNNWithMeans on 5 split(s).\n",
      "\n",
      "                  Fold 1  Fold 2  Fold 3  Fold 4  Fold 5  Mean    Std     \n",
      "RMSE (testset)    0.9534  0.9575  0.9487  0.9482  0.9494  0.9515  0.0035  \n",
      "Fit time          1.10    1.02    1.11    1.12    1.13    1.10    0.04    \n",
      "Test time         6.34    5.88    6.19    6.35    5.94    6.14    0.20    \n"
     ]
    },
    {
     "data": {
      "text/plain": [
       "{'test_rmse': array([0.95342206, 0.9575034 , 0.94871726, 0.94821125, 0.94940814]),\n",
       " 'fit_time': (1.0982069969177246,\n",
       "  1.0192835330963135,\n",
       "  1.106004238128662,\n",
       "  1.1239588260650635,\n",
       "  1.1279826164245605),\n",
       " 'test_time': (6.338022232055664,\n",
       "  5.876258134841919,\n",
       "  6.185495853424072,\n",
       "  6.346031427383423,\n",
       "  5.9421422481536865)}"
      ]
     },
     "execution_count": 5,
     "metadata": {},
     "output_type": "execute_result"
    }
   ],
   "source": [
    "algo = KNNWithMeans(k, sim_options={'name': 'msd'})\n",
    "\n",
    "cross_validate(algo, data, measures=['RMSE'], cv=5, verbose=True)"
   ]
  },
  {
   "cell_type": "markdown",
   "metadata": {},
   "source": [
    "### kNN Pearson"
   ]
  },
  {
   "cell_type": "code",
   "execution_count": 6,
   "metadata": {},
   "outputs": [
    {
     "name": "stdout",
     "output_type": "stream",
     "text": [
      "Computing the pearson similarity matrix...\n",
      "Done computing similarity matrix.\n",
      "Computing the pearson similarity matrix...\n",
      "Done computing similarity matrix.\n",
      "Computing the pearson similarity matrix...\n",
      "Done computing similarity matrix.\n",
      "Computing the pearson similarity matrix...\n",
      "Done computing similarity matrix.\n",
      "Computing the pearson similarity matrix...\n",
      "Done computing similarity matrix.\n",
      "Evaluating RMSE of algorithm KNNWithMeans on 5 split(s).\n",
      "\n",
      "                  Fold 1  Fold 2  Fold 3  Fold 4  Fold 5  Mean    Std     \n",
      "RMSE (testset)    0.9553  0.9500  0.9450  0.9474  0.9584  0.9512  0.0049  \n",
      "Fit time          3.74    3.41    3.30    3.29    3.34    3.42    0.17    \n",
      "Test time         5.80    5.23    5.31    5.37    5.15    5.37    0.23    \n"
     ]
    },
    {
     "data": {
      "text/plain": [
       "{'test_rmse': array([0.95527793, 0.95000626, 0.94504439, 0.94737488, 0.95835954]),\n",
       " 'fit_time': (3.7449522018432617,\n",
       "  3.4059250354766846,\n",
       "  3.3041672706604004,\n",
       "  3.2862164974212646,\n",
       "  3.3351120948791504),\n",
       " 'test_time': (5.804513454437256,\n",
       "  5.231979131698608,\n",
       "  5.307773113250732,\n",
       "  5.3660125732421875,\n",
       "  5.152802228927612)}"
      ]
     },
     "execution_count": 6,
     "metadata": {},
     "output_type": "execute_result"
    }
   ],
   "source": [
    "algo = KNNWithMeans(k, sim_options={'name': 'pearson'})\n",
    "\n",
    "cross_validate(algo, data, measures=['RMSE'], cv=5, verbose=True)"
   ]
  },
  {
   "cell_type": "markdown",
   "metadata": {},
   "source": [
    "### SVD"
   ]
  },
  {
   "cell_type": "code",
   "execution_count": 7,
   "metadata": {},
   "outputs": [
    {
     "name": "stdout",
     "output_type": "stream",
     "text": [
      "Evaluating RMSE of algorithm SVD on 5 split(s).\n",
      "\n",
      "                  Fold 1  Fold 2  Fold 3  Fold 4  Fold 5  Mean    Std     \n",
      "RMSE (testset)    0.9456  0.9290  0.9331  0.9346  0.9387  0.9362  0.0056  \n",
      "Fit time          7.99    8.27    8.03    8.05    7.93    8.05    0.12    \n",
      "Test time         0.30    0.28    0.29    0.23    0.23    0.27    0.03    \n"
     ]
    },
    {
     "data": {
      "text/plain": [
       "{'test_rmse': array([0.94555904, 0.92902173, 0.93307246, 0.93455073, 0.93874265]),\n",
       " 'fit_time': (7.99159836769104,\n",
       "  8.273875951766968,\n",
       "  8.025537967681885,\n",
       "  8.051434755325317,\n",
       "  7.926801443099976),\n",
       " 'test_time': (0.3011941909790039,\n",
       "  0.2842075824737549,\n",
       "  0.2892284393310547,\n",
       "  0.2263960838317871,\n",
       "  0.22739410400390625)}"
      ]
     },
     "execution_count": 7,
     "metadata": {},
     "output_type": "execute_result"
    }
   ],
   "source": [
    "algo = SVD()\n",
    "\n",
    "cross_validate(algo, data, measures=['RMSE'], cv=5, verbose=True)"
   ]
  },
  {
   "cell_type": "markdown",
   "metadata": {},
   "source": [
    "По средним значениям RMSE видно, что лучший алгоритм - SVD, его и будем использовать дальше"
   ]
  },
  {
   "cell_type": "markdown",
   "metadata": {},
   "source": [
    "### Calculate precision@k and recall@k"
   ]
  },
  {
   "cell_type": "code",
   "execution_count": 8,
   "metadata": {},
   "outputs": [
    {
     "name": "stdout",
     "output_type": "stream",
     "text": [
      "0.7095010615711256\n",
      "0.40355795715659876\n"
     ]
    }
   ],
   "source": [
    "#from FAQ\n",
    "def precision_recall_at_k(predictions, k=10, threshold=3.5):\n",
    "    \"\"\"Return precision and recall at k metrics for each user\"\"\"\n",
    "\n",
    "    # First map the predictions to each user.\n",
    "    user_est_true = defaultdict(list)\n",
    "    for uid, _, true_r, est, _ in predictions:\n",
    "        user_est_true[uid].append((est, true_r))\n",
    "\n",
    "    precisions = dict()\n",
    "    recalls = dict()\n",
    "    for uid, user_ratings in user_est_true.items():\n",
    "\n",
    "        # Sort user ratings by estimated value\n",
    "        user_ratings.sort(key=lambda x: x[0], reverse=True)\n",
    "\n",
    "        # Number of relevant items\n",
    "        n_rel = sum((true_r >= threshold) for (_, true_r) in user_ratings)\n",
    "\n",
    "        # Number of recommended items in top k\n",
    "        n_rec_k = sum((est >= threshold) for (est, _) in user_ratings[:k])\n",
    "\n",
    "        # Number of relevant and recommended items in top k\n",
    "        n_rel_and_rec_k = sum(((true_r >= threshold) and (est >= threshold))\n",
    "                              for (est, true_r) in user_ratings[:k])\n",
    "\n",
    "        # Precision@K: Proportion of recommended items that are relevant\n",
    "        # When n_rec_k is 0, Precision is undefined. We here set it to 0.\n",
    "\n",
    "        precisions[uid] = n_rel_and_rec_k / n_rec_k if n_rec_k != 0 else 0\n",
    "        \n",
    "        # Recall@K: Proportion of relevant items that are recommended\n",
    "        # When n_rel is 0, Recall is undefined. We here set it to 0.\n",
    "\n",
    "        recalls[uid] = n_rel_and_rec_k / n_rel if n_rel != 0 else 0\n",
    "\n",
    "    return precisions, recalls\n",
    "\n",
    "algo = SVD()\n",
    "kf = KFold(n_splits=5)\n",
    "\n",
    "for trainset, testset in kf.split(data):\n",
    "    algo.fit(trainset)\n",
    "    predictions = algo.test(testset)\n",
    "    precisions, recalls = precision_recall_at_k(predictions, k=5, threshold=3.52)\n",
    "\n",
    "#усредним по всем пользователям\n",
    "precision_at_k = sum(prec for prec in precisions.values()) / len(precisions)\n",
    "recall_at_k = sum(rec for rec in recalls.values()) / len(recalls)\n",
    "print(precision_at_k)\n",
    "print(recall_at_k)"
   ]
  },
  {
   "cell_type": "markdown",
   "metadata": {},
   "source": [
    "### Predict"
   ]
  },
  {
   "cell_type": "code",
   "execution_count": 9,
   "metadata": {},
   "outputs": [],
   "source": [
    "#основано на примерах из FAQ\n",
    "n = 5\n",
    "trainset = data.build_full_trainset()\n",
    "algo = SVD()\n",
    "algo.fit(trainset)\n",
    "\n",
    "testset = trainset.build_anti_testset()\n",
    "predictions = algo.test(testset)\n",
    "\n",
    "top_n = defaultdict(list)\n",
    "for uid, iid, true_r, est, _ in predictions:\n",
    "    top_n[uid].append((iid, est))\n",
    "\n",
    "for uid, user_ratings in top_n.items():\n",
    "        user_ratings.sort(key=lambda x: x[1], reverse=True)\n",
    "        top_n[uid] = user_ratings[:n]"
   ]
  },
  {
   "cell_type": "code",
   "execution_count": 10,
   "metadata": {},
   "outputs": [
    {
     "name": "stdout",
     "output_type": "stream",
     "text": [
      "User 34\n",
      "302    (L.A. Confidential (1997)       01-Jan-1997) 5.000     \n",
      "474    (Dr. Strangelove or: How I Learned to Stop Worrying and Love the Bomb (1963) 01-Jan-1963) 5.000     \n",
      "603    (Rear Window (1954)             01-Jan-1954) 5.000     \n",
      "100    (Fargo (1996)                   14-Feb-1997) 5.000     \n",
      "480    (North by Northwest (1959)      01-Jan-1959) 5.000     \n"
     ]
    }
   ],
   "source": [
    "print(\"User 34\")\n",
    "file_path = os.path.expanduser('~/.surprise_data/ml-100k/ml-100k/u.item')\n",
    "films_data = pd.read_csv(file_path, sep=\"|\", encoding='ansi', usecols=[0,1,2], names=['id','name', 'date'])\n",
    "for id, score in top_n['34']:\n",
    "    name = films_data.at[int(id) - 1, 'name'] #вычитаем -1, т.к. Python\n",
    "    date = films_data.at[int(id) - 1, 'date']\n",
    "    print(\"{:<6} ({:<30} {:<11}) {:<10.3f}\".format(id, name, date, score))"
   ]
  },
  {
   "cell_type": "code",
   "execution_count": null,
   "metadata": {},
   "outputs": [],
   "source": []
  },
  {
   "cell_type": "code",
   "execution_count": null,
   "metadata": {},
   "outputs": [],
   "source": []
  },
  {
   "cell_type": "code",
   "execution_count": null,
   "metadata": {},
   "outputs": [],
   "source": []
  }
 ],
 "metadata": {
  "kernelspec": {
   "display_name": "Python 3",
   "language": "python",
   "name": "python3"
  },
  "language_info": {
   "codemirror_mode": {
    "name": "ipython",
    "version": 3
   },
   "file_extension": ".py",
   "mimetype": "text/x-python",
   "name": "python",
   "nbconvert_exporter": "python",
   "pygments_lexer": "ipython3",
   "version": "3.8.5"
  }
 },
 "nbformat": 4,
 "nbformat_minor": 2
}
