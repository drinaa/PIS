{
 "cells": [
  {
   "cell_type": "markdown",
   "metadata": {},
   "source": [
    "# Surprise homework"
   ]
  },
  {
   "cell_type": "code",
   "execution_count": 1,
   "metadata": {},
   "outputs": [],
   "source": [
    "import io \n",
    "import os\n",
    "import pandas as pd\n",
    "from collections import defaultdict\n",
    "from surprise import SVD\n",
    "from surprise import Dataset\n",
    "from surprise import KNNWithMeans\n",
    "from surprise import NormalPredictor\n",
    "from surprise.model_selection import cross_validate\n",
    "from surprise.model_selection import KFold\n",
    "from surprise.model_selection import train_test_split"
   ]
  },
  {
   "cell_type": "code",
   "execution_count": 2,
   "metadata": {},
   "outputs": [],
   "source": [
    "# Load the movielens-100k dataset (download it if needed),\n",
    "data = Dataset.load_builtin('ml-100k')\n",
    "k = 30\n",
    "trainset, testset = train_test_split(data, test_size=.25)"
   ]
  },
  {
   "cell_type": "markdown",
   "metadata": {},
   "source": [
    "### A random rating based on the distribution of all ratings"
   ]
  },
  {
   "cell_type": "code",
   "execution_count": 3,
   "metadata": {},
   "outputs": [
    {
     "name": "stdout",
     "output_type": "stream",
     "text": [
      "Evaluating RMSE of algorithm NormalPredictor on 5 split(s).\n",
      "\n",
      "                  Fold 1  Fold 2  Fold 3  Fold 4  Fold 5  Mean    Std     \n",
      "RMSE (testset)    1.5176  1.5164  1.5116  1.5144  1.5186  1.5157  0.0025  \n",
      "Fit time          0.28    0.26    0.28    0.26    0.47    0.31    0.08    \n",
      "Test time         0.30    0.26    0.33    0.37    0.40    0.33    0.05    \n"
     ]
    },
    {
     "data": {
      "text/plain": [
       "{'test_rmse': array([1.51763662, 1.51641254, 1.51158091, 1.51439183, 1.51858262]),\n",
       " 'fit_time': (0.2842373847961426,\n",
       "  0.25952887535095215,\n",
       "  0.27729082107543945,\n",
       "  0.2635636329650879,\n",
       "  0.4677588939666748),\n",
       " 'test_time': (0.29537296295166016,\n",
       "  0.2608180046081543,\n",
       "  0.33211302757263184,\n",
       "  0.3689548969268799,\n",
       "  0.4010148048400879)}"
      ]
     },
     "execution_count": 3,
     "metadata": {},
     "output_type": "execute_result"
    }
   ],
   "source": [
    "algo = NormalPredictor()\n",
    "\n",
    "cross_validate(algo, data, measures=['RMSE'], cv=5, verbose=True)"
   ]
  },
  {
   "cell_type": "markdown",
   "metadata": {},
   "source": [
    "### kNN cosine"
   ]
  },
  {
   "cell_type": "code",
   "execution_count": 4,
   "metadata": {},
   "outputs": [
    {
     "name": "stdout",
     "output_type": "stream",
     "text": [
      "Computing the cosine similarity matrix...\n",
      "Done computing similarity matrix.\n",
      "Computing the cosine similarity matrix...\n",
      "Done computing similarity matrix.\n",
      "Computing the cosine similarity matrix...\n",
      "Done computing similarity matrix.\n",
      "Computing the cosine similarity matrix...\n",
      "Done computing similarity matrix.\n",
      "Computing the cosine similarity matrix...\n",
      "Done computing similarity matrix.\n",
      "Evaluating RMSE of algorithm KNNWithMeans on 5 split(s).\n",
      "\n",
      "                  Fold 1  Fold 2  Fold 3  Fold 4  Fold 5  Mean    Std     \n",
      "RMSE (testset)    0.9529  0.9575  0.9598  0.9617  0.9610  0.9586  0.0032  \n",
      "Fit time          2.95    2.95    2.92    3.04    3.65    3.10    0.28    \n",
      "Test time         6.68    6.08    6.01    6.07    8.04    6.58    0.77    \n"
     ]
    },
    {
     "data": {
      "text/plain": [
       "{'test_rmse': array([0.95288586, 0.957459  , 0.95979542, 0.96174343, 0.96100972]),\n",
       " 'fit_time': (2.9457361698150635,\n",
       "  2.946728467941284,\n",
       "  2.920332908630371,\n",
       "  3.0370304584503174,\n",
       "  3.6523311138153076),\n",
       " 'test_time': (6.684844017028809,\n",
       "  6.084195852279663,\n",
       "  6.013605356216431,\n",
       "  6.066106557846069,\n",
       "  8.042350053787231)}"
      ]
     },
     "execution_count": 4,
     "metadata": {},
     "output_type": "execute_result"
    }
   ],
   "source": [
    "algo = KNNWithMeans(k, sim_options={'name': 'cosine'})\n",
    "\n",
    "cross_validate(algo, data, measures=['RMSE'], cv=5, verbose=True)"
   ]
  },
  {
   "cell_type": "markdown",
   "metadata": {},
   "source": [
    "### kNN Mean Squared Difference"
   ]
  },
  {
   "cell_type": "code",
   "execution_count": 5,
   "metadata": {},
   "outputs": [
    {
     "name": "stdout",
     "output_type": "stream",
     "text": [
      "Computing the msd similarity matrix...\n",
      "Done computing similarity matrix.\n",
      "Computing the msd similarity matrix...\n",
      "Done computing similarity matrix.\n",
      "Computing the msd similarity matrix...\n",
      "Done computing similarity matrix.\n",
      "Computing the msd similarity matrix...\n",
      "Done computing similarity matrix.\n",
      "Computing the msd similarity matrix...\n",
      "Done computing similarity matrix.\n",
      "Evaluating RMSE of algorithm KNNWithMeans on 5 split(s).\n",
      "\n",
      "                  Fold 1  Fold 2  Fold 3  Fold 4  Fold 5  Mean    Std     \n",
      "RMSE (testset)    0.9533  0.9566  0.9488  0.9497  0.9549  0.9526  0.0030  \n",
      "Fit time          1.46    1.20    1.35    1.19    1.05    1.25    0.14    \n",
      "Test time         7.59    8.85    6.36    6.17    8.38    7.47    1.07    \n"
     ]
    },
    {
     "data": {
      "text/plain": [
       "{'test_rmse': array([0.9532662 , 0.95659084, 0.94884208, 0.94965886, 0.95485827]),\n",
       " 'fit_time': (1.4614648818969727,\n",
       "  1.1975500583648682,\n",
       "  1.3470699787139893,\n",
       "  1.1900548934936523,\n",
       "  1.0482687950134277),\n",
       " 'test_time': (7.585597038269043,\n",
       "  8.852206468582153,\n",
       "  6.35832667350769,\n",
       "  6.172762155532837,\n",
       "  8.383087635040283)}"
      ]
     },
     "execution_count": 5,
     "metadata": {},
     "output_type": "execute_result"
    }
   ],
   "source": [
    "algo = KNNWithMeans(k, sim_options={'name': 'msd'})\n",
    "\n",
    "cross_validate(algo, data, measures=['RMSE'], cv=5, verbose=True)"
   ]
  },
  {
   "cell_type": "markdown",
   "metadata": {},
   "source": [
    "### kNN Pearson"
   ]
  },
  {
   "cell_type": "code",
   "execution_count": 6,
   "metadata": {},
   "outputs": [
    {
     "name": "stdout",
     "output_type": "stream",
     "text": [
      "Computing the pearson similarity matrix...\n",
      "Done computing similarity matrix.\n",
      "Computing the pearson similarity matrix...\n",
      "Done computing similarity matrix.\n",
      "Computing the pearson similarity matrix...\n",
      "Done computing similarity matrix.\n",
      "Computing the pearson similarity matrix...\n",
      "Done computing similarity matrix.\n",
      "Computing the pearson similarity matrix...\n",
      "Done computing similarity matrix.\n",
      "Evaluating RMSE of algorithm KNNWithMeans on 5 split(s).\n",
      "\n",
      "                  Fold 1  Fold 2  Fold 3  Fold 4  Fold 5  Mean    Std     \n",
      "RMSE (testset)    0.9577  0.9480  0.9548  0.9580  0.9451  0.9527  0.0052  \n",
      "Fit time          5.01    5.46    6.67    4.37    3.81    5.06    0.98    \n",
      "Test time         11.57   7.68    14.81   6.47    6.92    9.49    3.21    \n"
     ]
    },
    {
     "data": {
      "text/plain": [
       "{'test_rmse': array([0.95773475, 0.94802945, 0.95484489, 0.9579754 , 0.94511902]),\n",
       " 'fit_time': (5.014451026916504,\n",
       "  5.459513902664185,\n",
       "  6.67278528213501,\n",
       "  4.367302179336548,\n",
       "  3.808903455734253),\n",
       " 'test_time': (11.56595253944397,\n",
       "  7.681387662887573,\n",
       "  14.810839414596558,\n",
       "  6.468941688537598,\n",
       "  6.922971248626709)}"
      ]
     },
     "execution_count": 6,
     "metadata": {},
     "output_type": "execute_result"
    }
   ],
   "source": [
    "algo = KNNWithMeans(k, sim_options={'name': 'pearson'})\n",
    "\n",
    "cross_validate(algo, data, measures=['RMSE'], cv=5, verbose=True)"
   ]
  },
  {
   "cell_type": "markdown",
   "metadata": {},
   "source": [
    "### SVD"
   ]
  },
  {
   "cell_type": "code",
   "execution_count": 7,
   "metadata": {},
   "outputs": [
    {
     "name": "stdout",
     "output_type": "stream",
     "text": [
      "Evaluating RMSE of algorithm SVD on 5 split(s).\n",
      "\n",
      "                  Fold 1  Fold 2  Fold 3  Fold 4  Fold 5  Mean    Std     \n",
      "RMSE (testset)    0.9409  0.9324  0.9386  0.9320  0.9357  0.9359  0.0035  \n",
      "Fit time          10.22   11.70   8.75    8.80    7.98    9.49    1.32    \n",
      "Test time         0.37    0.42    0.26    0.30    0.22    0.31    0.07    \n"
     ]
    },
    {
     "data": {
      "text/plain": [
       "{'test_rmse': array([0.94089764, 0.93242543, 0.93859992, 0.93199761, 0.93565388]),\n",
       " 'fit_time': (10.22478199005127,\n",
       "  11.695600271224976,\n",
       "  8.74755597114563,\n",
       "  8.80346131324768,\n",
       "  7.978696584701538),\n",
       " 'test_time': (0.3686349391937256,\n",
       "  0.4189133644104004,\n",
       "  0.26429009437561035,\n",
       "  0.3001980781555176,\n",
       "  0.22037649154663086)}"
      ]
     },
     "execution_count": 7,
     "metadata": {},
     "output_type": "execute_result"
    }
   ],
   "source": [
    "algo = SVD()\n",
    "\n",
    "cross_validate(algo, data, measures=['RMSE'], cv=5, verbose=True)"
   ]
  },
  {
   "cell_type": "markdown",
   "metadata": {},
   "source": [
    "По средним значениям RMSE видно, что лучший алгоритм - SVD, его и будем использовать дальше"
   ]
  },
  {
   "cell_type": "markdown",
   "metadata": {},
   "source": [
    "### Calculate precision@k and recall@k"
   ]
  },
  {
   "cell_type": "code",
   "execution_count": 8,
   "metadata": {},
   "outputs": [
    {
     "name": "stdout",
     "output_type": "stream",
     "text": [
      "0.7286574566064472\n",
      "0.4153230228244317\n"
     ]
    }
   ],
   "source": [
    "#from FAQ\n",
    "def precision_recall_at_k(predictions, k=10, threshold=3.52):\n",
    "    \"\"\"Return precision and recall at k metrics for each user\"\"\"\n",
    "\n",
    "    # First map the predictions to each user.\n",
    "    user_est_true = defaultdict(list)\n",
    "    for uid, _, true_r, est, _ in predictions:\n",
    "        user_est_true[uid].append((est, true_r))\n",
    "\n",
    "    precisions = dict()\n",
    "    recalls = dict()\n",
    "    for uid, user_ratings in user_est_true.items():\n",
    "\n",
    "        # Sort user ratings by estimated value\n",
    "        user_ratings.sort(key=lambda x: x[0], reverse=True)\n",
    "\n",
    "        # Number of relevant items\n",
    "        n_rel = sum((true_r >= threshold) for (_, true_r) in user_ratings)\n",
    "\n",
    "        # Number of recommended items in top k\n",
    "        n_rec_k = sum((est >= threshold) for (est, _) in user_ratings[:k])\n",
    "\n",
    "        # Number of relevant and recommended items in top k\n",
    "        n_rel_and_rec_k = sum(((true_r >= threshold) and (est >= threshold))\n",
    "                              for (est, true_r) in user_ratings[:k])\n",
    "\n",
    "        # Precision@K: Proportion of recommended items that are relevant\n",
    "        # When n_rec_k is 0, Precision is undefined. We here set it to 0.\n",
    "\n",
    "        precisions[uid] = n_rel_and_rec_k / n_rec_k if n_rec_k != 0 else 0\n",
    "        \n",
    "        # Recall@K: Proportion of relevant items that are recommended\n",
    "        # When n_rel is 0, Recall is undefined. We here set it to 0.\n",
    "\n",
    "        recalls[uid] = n_rel_and_rec_k / n_rel if n_rel != 0 else 0\n",
    "\n",
    "    return precisions, recalls\n",
    "\n",
    "algo = SVD()\n",
    "kf = KFold(n_splits=5)\n",
    "\n",
    "for trainset, testset in kf.split(data):\n",
    "    algo.fit(trainset)\n",
    "    predictions = algo.test(testset)\n",
    "    precisions, recalls = precision_recall_at_k(predictions, k=5, threshold=3.52)\n",
    "\n",
    "#усредним по всем пользователям\n",
    "precision_at_k = sum(prec for prec in precisions.values()) / len(precisions)\n",
    "recall_at_k = sum(rec for rec in recalls.values()) / len(recalls)\n",
    "print(precision_at_k)\n",
    "print(recall_at_k)"
   ]
  },
  {
   "cell_type": "markdown",
   "metadata": {},
   "source": [
    "### Predict"
   ]
  },
  {
   "cell_type": "code",
   "execution_count": 9,
   "metadata": {},
   "outputs": [],
   "source": [
    "#основано на примерах из FAQ\n",
    "n = 5\n",
    "trainset = data.build_full_trainset()\n",
    "algo = SVD()\n",
    "algo.fit(trainset)\n",
    "\n",
    "testset = trainset.build_anti_testset()\n",
    "predictions = algo.test(testset)\n",
    "\n",
    "top_n = defaultdict(list)\n",
    "for uid, iid, true_r, est, _ in predictions:\n",
    "    top_n[uid].append((iid, est))\n",
    "\n",
    "for uid, user_ratings in top_n.items():\n",
    "        user_ratings.sort(key=lambda x: x[1], reverse=True)\n",
    "        top_n[uid] = user_ratings[:n]"
   ]
  },
  {
   "cell_type": "code",
   "execution_count": 10,
   "metadata": {},
   "outputs": [
    {
     "name": "stdout",
     "output_type": "stream",
     "text": [
      "User 34\n",
      "427    ('To Kill a Mockingbird (1962)  ', '01-Jan-1962') 5.000     \n",
      "496    ('It's a Wonderful Life (1946)  ', '01-Jan-1946') 5.000     \n",
      "483    ('Casablanca (1942)             ', '01-Jan-1942') 5.000     \n",
      "408    ('Close Shave, A (1995)         ', '28-Apr-1996') 5.000     \n",
      "318    ('Schindler's List (1993)       ', '01-Jan-1993') 5.000     \n"
     ]
    }
   ],
   "source": [
    "print(\"User 34\")\n",
    "file_path = os.path.expanduser('~/.surprise_data/ml-100k/ml-100k/u.item')\n",
    "films_data = pd.read_csv(file_path, sep=\"|\", encoding='ansi', usecols=[0,1,2], names=['id','name', 'date'])\n",
    "for id, score in top_n['34']:\n",
    "    name = films_data.at[int(id) - 1, 'name'] #вычитаем -1, т.к. Python\n",
    "    date = films_data.at[int(id) - 1, 'date']\n",
    "    print(\"{:<6} ('{:<30}', '{:<11}') {:<10.3f}\".format(id, name, date, score))"
   ]
  },
  {
   "cell_type": "code",
   "execution_count": null,
   "metadata": {},
   "outputs": [],
   "source": []
  },
  {
   "cell_type": "code",
   "execution_count": null,
   "metadata": {},
   "outputs": [],
   "source": []
  },
  {
   "cell_type": "code",
   "execution_count": null,
   "metadata": {},
   "outputs": [],
   "source": []
  }
 ],
 "metadata": {
  "kernelspec": {
   "display_name": "Python 3",
   "language": "python",
   "name": "python3"
  },
  "language_info": {
   "codemirror_mode": {
    "name": "ipython",
    "version": 3
   },
   "file_extension": ".py",
   "mimetype": "text/x-python",
   "name": "python",
   "nbconvert_exporter": "python",
   "pygments_lexer": "ipython3",
   "version": "3.8.5"
  }
 },
 "nbformat": 4,
 "nbformat_minor": 2
}
