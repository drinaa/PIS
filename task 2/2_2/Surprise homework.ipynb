{
 "cells": [
  {
   "cell_type": "markdown",
   "metadata": {},
   "source": [
    "# Surprise homework"
   ]
  },
  {
   "cell_type": "code",
   "execution_count": 2,
   "metadata": {},
   "outputs": [],
   "source": [
    "import io \n",
    "import os\n",
    "import pandas as pd\n",
    "from collections import defaultdict\n",
    "from surprise import SVD\n",
    "from surprise import Dataset\n",
    "from surprise import KNNWithMeans\n",
    "from surprise import NormalPredictor\n",
    "from surprise.model_selection import cross_validate\n",
    "from surprise.model_selection import KFold\n",
    "from surprise.model_selection import train_test_split"
   ]
  },
  {
   "cell_type": "code",
   "execution_count": 5,
   "metadata": {},
   "outputs": [
    {
     "name": "stdout",
     "output_type": "stream",
     "text": [
      "<surprise.dataset.DatasetAutoFolds object at 0x0630D148>\n"
     ]
    }
   ],
   "source": [
    "# Load the movielens-100k dataset (download it if needed),\n",
    "data = Dataset.load_builtin('ml-100k')\n",
    "k = 30\n",
    "trainset, testset = train_test_split(data, test_size=.25)\n",
    "print(data)"
   ]
  },
  {
   "cell_type": "markdown",
   "metadata": {},
   "source": [
    "### A random rating based on the distribution of all ratings"
   ]
  },
  {
   "cell_type": "code",
   "execution_count": 3,
   "metadata": {},
   "outputs": [
    {
     "name": "stdout",
     "output_type": "stream",
     "text": [
      "Evaluating RMSE of algorithm NormalPredictor on 5 split(s).\n",
      "\n",
      "                  Fold 1  Fold 2  Fold 3  Fold 4  Fold 5  Mean    Std     \n",
      "RMSE (testset)    1.5130  1.5098  1.5216  1.5230  1.5272  1.5189  0.0065  \n",
      "Fit time          0.20    0.22    0.21    0.23    0.28    0.23    0.03    \n",
      "Test time         0.38    0.25    0.28    0.28    0.34    0.31    0.05    \n"
     ]
    },
    {
     "data": {
      "text/plain": [
       "{'test_rmse': array([1.5130491 , 1.50983803, 1.52158791, 1.52296432, 1.5271538 ]),\n",
       " 'fit_time': (0.20120525360107422,\n",
       "  0.21624064445495605,\n",
       "  0.2116091251373291,\n",
       "  0.2292616367340088,\n",
       "  0.27576589584350586),\n",
       " 'test_time': (0.3834519386291504,\n",
       "  0.24690032005310059,\n",
       "  0.27783966064453125,\n",
       "  0.2806730270385742,\n",
       "  0.3418886661529541)}"
      ]
     },
     "execution_count": 3,
     "metadata": {},
     "output_type": "execute_result"
    }
   ],
   "source": [
    "algo = NormalPredictor()\n",
    "\n",
    "cross_validate(algo, data, measures=['RMSE'], cv=5, verbose=True)"
   ]
  },
  {
   "cell_type": "markdown",
   "metadata": {},
   "source": [
    "### kNN cosine"
   ]
  },
  {
   "cell_type": "code",
   "execution_count": 4,
   "metadata": {},
   "outputs": [
    {
     "name": "stdout",
     "output_type": "stream",
     "text": [
      "Computing the cosine similarity matrix...\n",
      "Done computing similarity matrix.\n",
      "Computing the cosine similarity matrix...\n",
      "Done computing similarity matrix.\n",
      "Computing the cosine similarity matrix...\n",
      "Done computing similarity matrix.\n",
      "Computing the cosine similarity matrix...\n",
      "Done computing similarity matrix.\n",
      "Computing the cosine similarity matrix...\n",
      "Done computing similarity matrix.\n",
      "Evaluating RMSE of algorithm KNNWithMeans on 5 split(s).\n",
      "\n",
      "                  Fold 1  Fold 2  Fold 3  Fold 4  Fold 5  Mean    Std     \n",
      "RMSE (testset)    0.9620  0.9599  0.9539  0.9552  0.9551  0.9572  0.0032  \n",
      "Fit time          3.49    3.40    3.80    3.65    3.86    3.64    0.18    \n",
      "Test time         7.21    7.60    8.09    8.43    9.17    8.10    0.68    \n"
     ]
    },
    {
     "data": {
      "text/plain": [
       "{'test_rmse': array([0.96201072, 0.9599117 , 0.95390282, 0.95522761, 0.95508256]),\n",
       " 'fit_time': (3.4880197048187256,\n",
       "  3.3998961448669434,\n",
       "  3.79860258102417,\n",
       "  3.6541788578033447,\n",
       "  3.8570611476898193),\n",
       " 'test_time': (7.205975294113159,\n",
       "  7.595231533050537,\n",
       "  8.090102195739746,\n",
       "  8.43245553970337,\n",
       "  9.170366525650024)}"
      ]
     },
     "execution_count": 4,
     "metadata": {},
     "output_type": "execute_result"
    }
   ],
   "source": [
    "algo = KNNWithMeans(k, sim_options={'name': 'cosine'})\n",
    "\n",
    "cross_validate(algo, data, measures=['RMSE'], cv=5, verbose=True)"
   ]
  },
  {
   "cell_type": "markdown",
   "metadata": {},
   "source": [
    "### kNN Mean Squared Difference"
   ]
  },
  {
   "cell_type": "code",
   "execution_count": 5,
   "metadata": {},
   "outputs": [
    {
     "name": "stdout",
     "output_type": "stream",
     "text": [
      "Computing the msd similarity matrix...\n",
      "Done computing similarity matrix.\n",
      "Computing the msd similarity matrix...\n",
      "Done computing similarity matrix.\n",
      "Computing the msd similarity matrix...\n",
      "Done computing similarity matrix.\n",
      "Computing the msd similarity matrix...\n",
      "Done computing similarity matrix.\n",
      "Computing the msd similarity matrix...\n",
      "Done computing similarity matrix.\n",
      "Evaluating RMSE of algorithm KNNWithMeans on 5 split(s).\n",
      "\n",
      "                  Fold 1  Fold 2  Fold 3  Fold 4  Fold 5  Mean    Std     \n",
      "RMSE (testset)    0.9583  0.9499  0.9467  0.9498  0.9584  0.9526  0.0048  \n",
      "Fit time          1.39    1.51    1.28    1.59    1.24    1.40    0.13    \n",
      "Test time         8.24    8.55    8.19    7.96    7.11    8.01    0.49    \n"
     ]
    },
    {
     "data": {
      "text/plain": [
       "{'test_rmse': array([0.95825358, 0.94989631, 0.94666534, 0.94981394, 0.95840553]),\n",
       " 'fit_time': (1.3929002285003662,\n",
       "  1.5058872699737549,\n",
       "  1.2828216552734375,\n",
       "  1.5856502056121826,\n",
       "  1.237360954284668),\n",
       " 'test_time': (8.240311622619629,\n",
       "  8.55222463607788,\n",
       "  8.185819625854492,\n",
       "  7.962658882141113,\n",
       "  7.113598108291626)}"
      ]
     },
     "execution_count": 5,
     "metadata": {},
     "output_type": "execute_result"
    }
   ],
   "source": [
    "algo = KNNWithMeans(k, sim_options={'name': 'msd'})\n",
    "\n",
    "cross_validate(algo, data, measures=['RMSE'], cv=5, verbose=True)"
   ]
  },
  {
   "cell_type": "markdown",
   "metadata": {},
   "source": [
    "### kNN Pearson"
   ]
  },
  {
   "cell_type": "code",
   "execution_count": 6,
   "metadata": {},
   "outputs": [
    {
     "name": "stdout",
     "output_type": "stream",
     "text": [
      "Computing the pearson similarity matrix...\n",
      "Done computing similarity matrix.\n",
      "Computing the pearson similarity matrix...\n",
      "Done computing similarity matrix.\n",
      "Computing the pearson similarity matrix...\n",
      "Done computing similarity matrix.\n",
      "Computing the pearson similarity matrix...\n",
      "Done computing similarity matrix.\n",
      "Computing the pearson similarity matrix...\n",
      "Done computing similarity matrix.\n",
      "Evaluating RMSE of algorithm KNNWithMeans on 5 split(s).\n",
      "\n",
      "                  Fold 1  Fold 2  Fold 3  Fold 4  Fold 5  Mean    Std     \n",
      "RMSE (testset)    0.9556  0.9502  0.9559  0.9504  0.9494  0.9523  0.0029  \n",
      "Fit time          4.87    4.49    4.77    4.69    4.33    4.63    0.20    \n",
      "Test time         7.73    7.60    7.37    7.33    7.14    7.43    0.21    \n"
     ]
    },
    {
     "data": {
      "text/plain": [
       "{'test_rmse': array([0.95561433, 0.9502005 , 0.95594791, 0.95035392, 0.94937578]),\n",
       " 'fit_time': (4.872209548950195,\n",
       "  4.490813493728638,\n",
       "  4.771634101867676,\n",
       "  4.690330743789673,\n",
       "  4.327089548110962),\n",
       " 'test_time': (7.733187437057495,\n",
       "  7.600516319274902,\n",
       "  7.36620020866394,\n",
       "  7.327636241912842,\n",
       "  7.135849475860596)}"
      ]
     },
     "execution_count": 6,
     "metadata": {},
     "output_type": "execute_result"
    }
   ],
   "source": [
    "algo = KNNWithMeans(k, sim_options={'name': 'pearson'})\n",
    "\n",
    "cross_validate(algo, data, measures=['RMSE'], cv=5, verbose=True)"
   ]
  },
  {
   "cell_type": "markdown",
   "metadata": {},
   "source": [
    "### SVD"
   ]
  },
  {
   "cell_type": "code",
   "execution_count": 7,
   "metadata": {},
   "outputs": [
    {
     "name": "stdout",
     "output_type": "stream",
     "text": [
      "Evaluating RMSE of algorithm SVD on 5 split(s).\n",
      "\n",
      "                  Fold 1  Fold 2  Fold 3  Fold 4  Fold 5  Mean    Std     \n",
      "RMSE (testset)    0.9320  0.9400  0.9378  0.9345  0.9392  0.9367  0.0030  \n",
      "Fit time          10.96   12.75   14.04   12.77   13.03   12.71   0.99    \n",
      "Test time         0.33    0.54    0.47    0.48    0.39    0.44    0.07    \n"
     ]
    },
    {
     "data": {
      "text/plain": [
       "{'test_rmse': array([0.93198051, 0.93998684, 0.93778019, 0.93454927, 0.93916304]),\n",
       " 'fit_time': (10.958515882492065,\n",
       "  12.74800157546997,\n",
       "  14.040103912353516,\n",
       "  12.773605108261108,\n",
       "  13.025669574737549),\n",
       " 'test_time': (0.3345189094543457,\n",
       "  0.5426039695739746,\n",
       "  0.4674687385559082,\n",
       "  0.4791080951690674,\n",
       "  0.39037203788757324)}"
      ]
     },
     "execution_count": 7,
     "metadata": {},
     "output_type": "execute_result"
    }
   ],
   "source": [
    "algo = SVD()\n",
    "\n",
    "cross_validate(algo, data, measures=['RMSE'], cv=5, verbose=True)"
   ]
  },
  {
   "cell_type": "markdown",
   "metadata": {},
   "source": [
    "По средним значениям RMSE видно, что лучший алгоритм - SVD, его и будем использовать дальше"
   ]
  },
  {
   "cell_type": "markdown",
   "metadata": {},
   "source": [
    "### Calculate precision@k and recall@k"
   ]
  },
  {
   "cell_type": "code",
   "execution_count": 8,
   "metadata": {},
   "outputs": [
    {
     "name": "stdout",
     "output_type": "stream",
     "text": [
      "0.7156592435489582\n",
      "0.4009624869091587\n"
     ]
    }
   ],
   "source": [
    "#from FAQ\n",
    "def precision_recall_at_k(predictions, k=10, threshold=3.52):\n",
    "    \"\"\"Return precision and recall at k metrics for each user\"\"\"\n",
    "\n",
    "    # First map the predictions to each user.\n",
    "    user_est_true = defaultdict(list)\n",
    "    for uid, _, true_r, est, _ in predictions:\n",
    "        user_est_true[uid].append((est, true_r))\n",
    "\n",
    "    precisions = dict()\n",
    "    recalls = dict()\n",
    "    for uid, user_ratings in user_est_true.items():\n",
    "\n",
    "        # Sort user ratings by estimated value\n",
    "        user_ratings.sort(key=lambda x: x[0], reverse=True)\n",
    "\n",
    "        # Number of relevant items\n",
    "        n_rel = sum((true_r >= threshold) for (_, true_r) in user_ratings)\n",
    "\n",
    "        # Number of recommended items in top k\n",
    "        n_rec_k = sum((est >= threshold) for (est, _) in user_ratings[:k])\n",
    "\n",
    "        # Number of relevant and recommended items in top k\n",
    "        n_rel_and_rec_k = sum(((true_r >= threshold) and (est >= threshold))\n",
    "                              for (est, true_r) in user_ratings[:k])\n",
    "\n",
    "        # Precision@K: Proportion of recommended items that are relevant\n",
    "        # When n_rec_k is 0, Precision is undefined. We here set it to 0.\n",
    "\n",
    "        precisions[uid] = n_rel_and_rec_k / n_rec_k if n_rec_k != 0 else 0\n",
    "        \n",
    "        # Recall@K: Proportion of relevant items that are recommended\n",
    "        # When n_rel is 0, Recall is undefined. We here set it to 0.\n",
    "\n",
    "        recalls[uid] = n_rel_and_rec_k / n_rel if n_rel != 0 else 0\n",
    "\n",
    "    return precisions, recalls\n",
    "\n",
    "algo = SVD()\n",
    "kf = KFold(n_splits=5)\n",
    "\n",
    "for trainset, testset in kf.split(data):\n",
    "    algo.fit(trainset)\n",
    "    predictions = algo.test(testset)\n",
    "    precisions, recalls = precision_recall_at_k(predictions, k=5, threshold=3.52)\n",
    "\n",
    "#усредним по всем пользователям\n",
    "precision_at_k = sum(prec for prec in precisions.values()) / len(precisions)\n",
    "recall_at_k = sum(rec for rec in recalls.values()) / len(recalls)\n",
    "print(precision_at_k)\n",
    "print(recall_at_k)"
   ]
  },
  {
   "cell_type": "markdown",
   "metadata": {},
   "source": [
    "### Predict"
   ]
  },
  {
   "cell_type": "code",
   "execution_count": 9,
   "metadata": {},
   "outputs": [],
   "source": [
    "#основано на примерах из FAQ\n",
    "n = 5\n",
    "trainset = data.build_full_trainset()\n",
    "algo = SVD()\n",
    "algo.fit(trainset)\n",
    "\n",
    "testset = trainset.build_anti_testset()\n",
    "predictions = algo.test(testset)\n",
    "\n",
    "top_n = defaultdict(list) \n",
    "for uid, iid, true_r, est, _ in predictions:\n",
    "    top_n[uid].append((iid, est))\n",
    "\n",
    "for uid, user_ratings in top_n.items():\n",
    "        user_ratings.sort(key=lambda x: x[1], reverse=True)\n",
    "        top_n[uid] = user_ratings[:n]"
   ]
  },
  {
   "cell_type": "code",
   "execution_count": 10,
   "metadata": {},
   "outputs": [
    {
     "name": "stdout",
     "output_type": "stream",
     "text": [
      "User 34\n",
      "98     ('Silence of the Lambs, The (1991)', '01-Jan-1991') 5.000     \n",
      "603    ('Rear Window (1954)            ', '01-Jan-1954') 5.000     \n",
      "480    ('North by Northwest (1959)     ', '01-Jan-1959') 5.000     \n",
      "137    ('Big Night (1996)              ', '20-Sep-1996') 5.000     \n",
      "483    ('Casablanca (1942)             ', '01-Jan-1942') 5.000     \n"
     ]
    }
   ],
   "source": [
    "print(\"User 34\")\n",
    "file_path = os.path.expanduser('~/.surprise_data/ml-100k/ml-100k/u.item')\n",
    "films_data = pd.read_csv(file_path, sep=\"|\", encoding='ansi', usecols=[0,1,2], names=['id','name', 'date'])\n",
    "for id, score in top_n['34']:\n",
    "    name = films_data.at[int(id) - 1, 'name'] #вычитаем -1, т.к. Python\n",
    "    date = films_data.at[int(id) - 1, 'date']\n",
    "    print(\"{:<6} ('{:<30}', '{:<11}') {:<10.3f}\".format(id, name, date, score))"
   ]
  },
  {
   "cell_type": "code",
   "execution_count": null,
   "metadata": {},
   "outputs": [],
   "source": []
  },
  {
   "cell_type": "code",
   "execution_count": null,
   "metadata": {},
   "outputs": [],
   "source": []
  },
  {
   "cell_type": "code",
   "execution_count": null,
   "metadata": {},
   "outputs": [],
   "source": []
  }
 ],
 "metadata": {
  "kernelspec": {
   "display_name": "Python 3",
   "language": "python",
   "name": "python3"
  },
  "language_info": {
   "codemirror_mode": {
    "name": "ipython",
    "version": 3
   },
   "file_extension": ".py",
   "mimetype": "text/x-python",
   "name": "python",
   "nbconvert_exporter": "python",
   "pygments_lexer": "ipython3",
   "version": "3.8.5"
  }
 },
 "nbformat": 4,
 "nbformat_minor": 2
}
